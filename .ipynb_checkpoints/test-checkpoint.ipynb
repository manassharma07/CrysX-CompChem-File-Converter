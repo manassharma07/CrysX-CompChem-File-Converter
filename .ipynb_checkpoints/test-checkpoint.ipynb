{
 "cells": [
  {
   "cell_type": "code",
   "execution_count": 23,
   "id": "ccedbad3",
   "metadata": {},
   "outputs": [],
   "source": [
    "import py3Dmol"
   ]
  },
  {
   "cell_type": "code",
   "execution_count": 24,
   "id": "52aa1ea3",
   "metadata": {},
   "outputs": [
    {
     "data": {
      "application/3dmoljs_load.v0": "<div id=\"3dmolviewer_16601351980788102\"  style=\"position: relative; width: 400px; height: 400px\">\n        <p id=\"3dmolwarning_16601351980788102\" style=\"background-color:#ffcccc;color:black\">You appear to be running in JupyterLab (or JavaScript failed to load for some other reason).  You need to install the 3dmol extension: <br>\n        <tt>jupyter labextension install jupyterlab_3dmol</tt></p>\n        </div>\n<script>\n\nvar loadScriptAsync = function(uri){\n  return new Promise((resolve, reject) => {\n    var tag = document.createElement('script');\n    tag.src = uri;\n    tag.async = true;\n    tag.onload = () => {\n      resolve();\n    };\n  var firstScriptTag = document.getElementsByTagName('script')[0];\n  firstScriptTag.parentNode.insertBefore(tag, firstScriptTag);\n});\n};\n\nif(typeof $3Dmolpromise === 'undefined') {\n$3Dmolpromise = null;\n  $3Dmolpromise = loadScriptAsync('https://3dmol.org/build/3Dmol.js');\n}\n\nvar viewer_16601351980788102 = null;\nvar warn = document.getElementById(\"3dmolwarning_16601351980788102\");\nif(warn) {\n    warn.parentNode.removeChild(warn);\n}\n$3Dmolpromise.then(function() {\nviewer_16601351980788102 = $3Dmol.createViewer($(\"#3dmolviewer_16601351980788102\"),{backgroundColor:\"white\"});\nviewer_16601351980788102.zoomTo();\n\tviewer_16601351980788102.addModel(\"8\\nC2H4Cl2\\nCl        -2.18000        0.05530       -0.00000\\nC         -0.49420       -0.58400        0.00000\\nC          0.49420        0.58400        0.00000\\nCl         2.18000       -0.05530       -0.00000\\nH         -0.33660       -1.19320        0.89000\\nH         -0.33660       -1.19320       -0.89000\\nH          0.33660        1.19320       -0.89000\\nH          0.33660        1.19320        0.89000\\n\",\"xyz\");\n\tviewer_16601351980788102.setStyle({\"sphere\": {\"colorscheme\": \"Jmol\", \"scale\": 0.1}, \"stick\": {\"colorscheme\": \"Jmol\", \"radius\": 0.25}});\n\tviewer_16601351980788102.zoomTo();\nviewer_16601351980788102.render();\n});\n</script>",
      "text/html": [
       "<div id=\"3dmolviewer_16601351980788102\"  style=\"position: relative; width: 400px; height: 400px\">\n",
       "        <p id=\"3dmolwarning_16601351980788102\" style=\"background-color:#ffcccc;color:black\">You appear to be running in JupyterLab (or JavaScript failed to load for some other reason).  You need to install the 3dmol extension: <br>\n",
       "        <tt>jupyter labextension install jupyterlab_3dmol</tt></p>\n",
       "        </div>\n",
       "<script>\n",
       "\n",
       "var loadScriptAsync = function(uri){\n",
       "  return new Promise((resolve, reject) => {\n",
       "    var tag = document.createElement('script');\n",
       "    tag.src = uri;\n",
       "    tag.async = true;\n",
       "    tag.onload = () => {\n",
       "      resolve();\n",
       "    };\n",
       "  var firstScriptTag = document.getElementsByTagName('script')[0];\n",
       "  firstScriptTag.parentNode.insertBefore(tag, firstScriptTag);\n",
       "});\n",
       "};\n",
       "\n",
       "if(typeof $3Dmolpromise === 'undefined') {\n",
       "$3Dmolpromise = null;\n",
       "  $3Dmolpromise = loadScriptAsync('https://3dmol.org/build/3Dmol.js');\n",
       "}\n",
       "\n",
       "var viewer_16601351980788102 = null;\n",
       "var warn = document.getElementById(\"3dmolwarning_16601351980788102\");\n",
       "if(warn) {\n",
       "    warn.parentNode.removeChild(warn);\n",
       "}\n",
       "$3Dmolpromise.then(function() {\n",
       "viewer_16601351980788102 = $3Dmol.createViewer($(\"#3dmolviewer_16601351980788102\"),{backgroundColor:\"white\"});\n",
       "viewer_16601351980788102.zoomTo();\n",
       "\tviewer_16601351980788102.addModel(\"8\\nC2H4Cl2\\nCl        -2.18000        0.05530       -0.00000\\nC         -0.49420       -0.58400        0.00000\\nC          0.49420        0.58400        0.00000\\nCl         2.18000       -0.05530       -0.00000\\nH         -0.33660       -1.19320        0.89000\\nH         -0.33660       -1.19320       -0.89000\\nH          0.33660        1.19320       -0.89000\\nH          0.33660        1.19320        0.89000\\n\",\"xyz\");\n",
       "\tviewer_16601351980788102.setStyle({\"sphere\": {\"colorscheme\": \"Jmol\", \"scale\": 0.1}, \"stick\": {\"colorscheme\": \"Jmol\", \"radius\": 0.25}});\n",
       "\tviewer_16601351980788102.zoomTo();\n",
       "viewer_16601351980788102.render();\n",
       "});\n",
       "</script>"
      ]
     },
     "metadata": {},
     "output_type": "display_data"
    },
    {
     "data": {
      "application/3dmoljs_load.v0": "<div id=\"3dmolviewer_16601351980808103\"  style=\"position: relative; width: 400px; height: 400px\">\n        <p id=\"3dmolwarning_16601351980808103\" style=\"background-color:#ffcccc;color:black\">You appear to be running in JupyterLab (or JavaScript failed to load for some other reason).  You need to install the 3dmol extension: <br>\n        <tt>jupyter labextension install jupyterlab_3dmol</tt></p>\n        </div>\n<script>\n\nvar loadScriptAsync = function(uri){\n  return new Promise((resolve, reject) => {\n    var tag = document.createElement('script');\n    tag.src = uri;\n    tag.async = true;\n    tag.onload = () => {\n      resolve();\n    };\n  var firstScriptTag = document.getElementsByTagName('script')[0];\n  firstScriptTag.parentNode.insertBefore(tag, firstScriptTag);\n});\n};\n\nif(typeof $3Dmolpromise === 'undefined') {\n$3Dmolpromise = null;\n  $3Dmolpromise = loadScriptAsync('https://3dmol.org/build/3Dmol.js');\n}\n\nvar viewer_16601351980808103 = null;\nvar warn = document.getElementById(\"3dmolwarning_16601351980808103\");\nif(warn) {\n    warn.parentNode.removeChild(warn);\n}\n$3Dmolpromise.then(function() {\nviewer_16601351980808103 = $3Dmol.createViewer($(\"#3dmolviewer_16601351980808103\"),{backgroundColor:\"white\"});\nviewer_16601351980808103.zoomTo();\n\tviewer_16601351980808103.addModel(\"8\\nC2H4Cl2\\nCl        -2.18000        0.05530       -0.00000\\nC         -0.49420       -0.58400        0.00000\\nC          0.49420        0.58400        0.00000\\nCl         2.18000       -0.05530       -0.00000\\nH         -0.33660       -1.19320        0.89000\\nH         -0.33660       -1.19320       -0.89000\\nH          0.33660        1.19320       -0.89000\\nH          0.33660        1.19320        0.89000\\n\",\"xyz\");\n\tviewer_16601351980808103.setStyle({\"sphere\": {\"colorscheme\": \"Jmol\", \"scale\": 0.1}, \"stick\": {\"colorscheme\": \"Jmol\", \"radius\": 0.25}});\n\tviewer_16601351980808103.zoomTo();\n\tviewer_16601351980808103.render();\nviewer_16601351980808103.render();\n});\n</script>",
      "text/html": [
       "<div id=\"3dmolviewer_16601351980808103\"  style=\"position: relative; width: 400px; height: 400px\">\n",
       "        <p id=\"3dmolwarning_16601351980808103\" style=\"background-color:#ffcccc;color:black\">You appear to be running in JupyterLab (or JavaScript failed to load for some other reason).  You need to install the 3dmol extension: <br>\n",
       "        <tt>jupyter labextension install jupyterlab_3dmol</tt></p>\n",
       "        </div>\n",
       "<script>\n",
       "\n",
       "var loadScriptAsync = function(uri){\n",
       "  return new Promise((resolve, reject) => {\n",
       "    var tag = document.createElement('script');\n",
       "    tag.src = uri;\n",
       "    tag.async = true;\n",
       "    tag.onload = () => {\n",
       "      resolve();\n",
       "    };\n",
       "  var firstScriptTag = document.getElementsByTagName('script')[0];\n",
       "  firstScriptTag.parentNode.insertBefore(tag, firstScriptTag);\n",
       "});\n",
       "};\n",
       "\n",
       "if(typeof $3Dmolpromise === 'undefined') {\n",
       "$3Dmolpromise = null;\n",
       "  $3Dmolpromise = loadScriptAsync('https://3dmol.org/build/3Dmol.js');\n",
       "}\n",
       "\n",
       "var viewer_16601351980808103 = null;\n",
       "var warn = document.getElementById(\"3dmolwarning_16601351980808103\");\n",
       "if(warn) {\n",
       "    warn.parentNode.removeChild(warn);\n",
       "}\n",
       "$3Dmolpromise.then(function() {\n",
       "viewer_16601351980808103 = $3Dmol.createViewer($(\"#3dmolviewer_16601351980808103\"),{backgroundColor:\"white\"});\n",
       "viewer_16601351980808103.zoomTo();\n",
       "\tviewer_16601351980808103.addModel(\"8\\nC2H4Cl2\\nCl        -2.18000        0.05530       -0.00000\\nC         -0.49420       -0.58400        0.00000\\nC          0.49420        0.58400        0.00000\\nCl         2.18000       -0.05530       -0.00000\\nH         -0.33660       -1.19320        0.89000\\nH         -0.33660       -1.19320       -0.89000\\nH          0.33660        1.19320       -0.89000\\nH          0.33660        1.19320        0.89000\\n\",\"xyz\");\n",
       "\tviewer_16601351980808103.setStyle({\"sphere\": {\"colorscheme\": \"Jmol\", \"scale\": 0.1}, \"stick\": {\"colorscheme\": \"Jmol\", \"radius\": 0.25}});\n",
       "\tviewer_16601351980808103.zoomTo();\n",
       "\tviewer_16601351980808103.render();\n",
       "viewer_16601351980808103.render();\n",
       "});\n",
       "</script>"
      ]
     },
     "metadata": {},
     "output_type": "display_data"
    },
    {
     "data": {
      "text/plain": [
       "<py3Dmol.view at 0x15f113dc548>"
      ]
     },
     "execution_count": 24,
     "metadata": {},
     "output_type": "execute_result"
    }
   ],
   "source": [
    "\n",
    "\n",
    "xyz = '''8\n",
    "C2H4Cl2\n",
    "Cl        -2.18000        0.05530       -0.00000\n",
    "C         -0.49420       -0.58400        0.00000\n",
    "C          0.49420        0.58400        0.00000\n",
    "Cl         2.18000       -0.05530       -0.00000\n",
    "H         -0.33660       -1.19320        0.89000\n",
    "H         -0.33660       -1.19320       -0.89000\n",
    "H          0.33660        1.19320       -0.89000\n",
    "H          0.33660        1.19320        0.89000\n",
    "'''\n",
    "\n",
    "\n",
    "style='stick'\n",
    "# style='cartoon'\n",
    "# style='sphere'\n",
    "# style='stick sphere'\n",
    "\n",
    "view = py3Dmol.view(width=400, height=400)\n",
    "view.addModel(xyz, 'xyz')\n",
    "view.setStyle({'sphere':{'colorscheme':'Jmol','scale':0.1},\n",
    "                   'stick':{'colorscheme':'Jmol', 'radius':0.25}})\n",
    "view.zoomTo()\n",
    "view.show()\n",
    "# view.render()"
   ]
  },
  {
   "cell_type": "code",
   "execution_count": 20,
   "id": "928768ee",
   "metadata": {},
   "outputs": [],
   "source": [
    "xyz = '''4\n",
    "* (null), Energy   -1000.0000000\n",
    "N     0.000005    0.019779   -0.000003   -0.157114    0.000052   -0.012746\n",
    "H     0.931955   -0.364989    0.000003    1.507100   -0.601158   -0.004108\n",
    "H    -0.465975   -0.364992    0.807088    0.283368    0.257996   -0.583024\n",
    "H    -0.465979   -0.364991   -0.807088    0.392764    0.342436    0.764260\n",
    "'''"
   ]
  },
  {
   "cell_type": "code",
   "execution_count": 21,
   "id": "61185fd7",
   "metadata": {},
   "outputs": [
    {
     "data": {
      "application/3dmoljs_load.v0": "<div id=\"3dmolviewer_16601350768777533\"  style=\"position: relative; width: 400px; height: 400px\">\n        <p id=\"3dmolwarning_16601350768777533\" style=\"background-color:#ffcccc;color:black\">You appear to be running in JupyterLab (or JavaScript failed to load for some other reason).  You need to install the 3dmol extension: <br>\n        <tt>jupyter labextension install jupyterlab_3dmol</tt></p>\n        </div>\n<script>\n\nvar loadScriptAsync = function(uri){\n  return new Promise((resolve, reject) => {\n    var tag = document.createElement('script');\n    tag.src = uri;\n    tag.async = true;\n    tag.onload = () => {\n      resolve();\n    };\n  var firstScriptTag = document.getElementsByTagName('script')[0];\n  firstScriptTag.parentNode.insertBefore(tag, firstScriptTag);\n});\n};\n\nif(typeof $3Dmolpromise === 'undefined') {\n$3Dmolpromise = null;\n  $3Dmolpromise = loadScriptAsync('https://3dmol.org/build/3Dmol.js');\n}\n\nvar viewer_16601350768777533 = null;\nvar warn = document.getElementById(\"3dmolwarning_16601350768777533\");\nif(warn) {\n    warn.parentNode.removeChild(warn);\n}\n$3Dmolpromise.then(function() {\nviewer_16601350768777533 = $3Dmol.createViewer($(\"#3dmolviewer_16601350768777533\"),{backgroundColor:\"white\"});\nviewer_16601350768777533.zoomTo();\n\tviewer_16601350768777533.addModel(\"4\\n* (null), Energy   -1000.0000000\\nN     0.000005    0.019779   -0.000003   -0.157114    0.000052   -0.012746\\nH     0.931955   -0.364989    0.000003    1.507100   -0.601158   -0.004108\\nH    -0.465975   -0.364992    0.807088    0.283368    0.257996   -0.583024\\nH    -0.465979   -0.364991   -0.807088    0.392764    0.342436    0.764260\\n\",\"xyz\",{\"vibrate\": {\"frames\": 10, \"amplitude\": 1}});\n\tviewer_16601350768777533.setStyle({\"sphere\": {\"colorscheme\": \"Jmol\", \"scale\": 0.3}, \"stick\": {\"colorscheme\": \"Jmol\", \"radius\": 0.0}});\n\tviewer_16601350768777533.setBackgroundColor(\"0xeeeeee\");\n\tviewer_16601350768777533.zoomTo();\nviewer_16601350768777533.render();\n});\n</script>",
      "text/html": [
       "<div id=\"3dmolviewer_16601350768777533\"  style=\"position: relative; width: 400px; height: 400px\">\n",
       "        <p id=\"3dmolwarning_16601350768777533\" style=\"background-color:#ffcccc;color:black\">You appear to be running in JupyterLab (or JavaScript failed to load for some other reason).  You need to install the 3dmol extension: <br>\n",
       "        <tt>jupyter labextension install jupyterlab_3dmol</tt></p>\n",
       "        </div>\n",
       "<script>\n",
       "\n",
       "var loadScriptAsync = function(uri){\n",
       "  return new Promise((resolve, reject) => {\n",
       "    var tag = document.createElement('script');\n",
       "    tag.src = uri;\n",
       "    tag.async = true;\n",
       "    tag.onload = () => {\n",
       "      resolve();\n",
       "    };\n",
       "  var firstScriptTag = document.getElementsByTagName('script')[0];\n",
       "  firstScriptTag.parentNode.insertBefore(tag, firstScriptTag);\n",
       "});\n",
       "};\n",
       "\n",
       "if(typeof $3Dmolpromise === 'undefined') {\n",
       "$3Dmolpromise = null;\n",
       "  $3Dmolpromise = loadScriptAsync('https://3dmol.org/build/3Dmol.js');\n",
       "}\n",
       "\n",
       "var viewer_16601350768777533 = null;\n",
       "var warn = document.getElementById(\"3dmolwarning_16601350768777533\");\n",
       "if(warn) {\n",
       "    warn.parentNode.removeChild(warn);\n",
       "}\n",
       "$3Dmolpromise.then(function() {\n",
       "viewer_16601350768777533 = $3Dmol.createViewer($(\"#3dmolviewer_16601350768777533\"),{backgroundColor:\"white\"});\n",
       "viewer_16601350768777533.zoomTo();\n",
       "\tviewer_16601350768777533.addModel(\"4\\n* (null), Energy   -1000.0000000\\nN     0.000005    0.019779   -0.000003   -0.157114    0.000052   -0.012746\\nH     0.931955   -0.364989    0.000003    1.507100   -0.601158   -0.004108\\nH    -0.465975   -0.364992    0.807088    0.283368    0.257996   -0.583024\\nH    -0.465979   -0.364991   -0.807088    0.392764    0.342436    0.764260\\n\",\"xyz\",{\"vibrate\": {\"frames\": 10, \"amplitude\": 1}});\n",
       "\tviewer_16601350768777533.setStyle({\"sphere\": {\"colorscheme\": \"Jmol\", \"scale\": 0.3}, \"stick\": {\"colorscheme\": \"Jmol\", \"radius\": 0.0}});\n",
       "\tviewer_16601350768777533.setBackgroundColor(\"0xeeeeee\");\n",
       "\tviewer_16601350768777533.zoomTo();\n",
       "viewer_16601350768777533.render();\n",
       "});\n",
       "</script>"
      ]
     },
     "metadata": {},
     "output_type": "display_data"
    }
   ],
   "source": [
    "style='stick'\n",
    "# style='cartoon'\n",
    "# style='sphere'\n",
    "# style='line'\n",
    "\n",
    "xyzview = py3Dmol.view(width=400,height=400)\n",
    "xyzview.addModel(xyz,'xyz',{'vibrate': {'frames':10,'amplitude':1}})\n",
    "xyzview.setStyle({'sphere':{'colorscheme':'Jmol','scale':0.3},\n",
    "                   'stick':{'colorscheme':'Jmol', 'radius':0.}})\n",
    "xyzview.setBackgroundColor('0xeeeeee')\n",
    "# xyzview.animate({'loop': 'backAndForth'})\n",
    "xyzview.zoomTo()\n",
    "xyzview.show()"
   ]
  },
  {
   "cell_type": "code",
   "execution_count": null,
   "id": "3530fd6c",
   "metadata": {},
   "outputs": [],
   "source": []
  },
  {
   "cell_type": "code",
   "execution_count": null,
   "id": "25ed7a96",
   "metadata": {},
   "outputs": [],
   "source": []
  }
 ],
 "metadata": {
  "kernelspec": {
   "display_name": "Python 3 (ipykernel)",
   "language": "python",
   "name": "python3"
  },
  "language_info": {
   "codemirror_mode": {
    "name": "ipython",
    "version": 3
   },
   "file_extension": ".py",
   "mimetype": "text/x-python",
   "name": "python",
   "nbconvert_exporter": "python",
   "pygments_lexer": "ipython3",
   "version": "3.7.11"
  }
 },
 "nbformat": 4,
 "nbformat_minor": 5
}
